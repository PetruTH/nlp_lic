{
 "cells": [
  {
   "cell_type": "code",
   "execution_count": 5,
   "metadata": {},
   "outputs": [
    {
     "data": {
      "text/plain": [
       "[('grăbit', tensor(1795.7195, dtype=torch.float64)),\n",
       " ('plecat', tensor(1664.0773, dtype=torch.float64)),\n",
       " ('evadat', tensor(1503.1093, dtype=torch.float64)),\n",
       " ('alergat', tensor(1368.9740, dtype=torch.float64)),\n",
       " ('risipit', tensor(1292.0694, dtype=torch.float64)),\n",
       " ('răzleț', 1080.0),\n",
       " ('răspândit', tensor(1056.5593, dtype=torch.float64)),\n",
       " ('gonit', tensor(1043.5437, dtype=torch.float64)),\n",
       " ('răsfirat', tensor(858.6494, dtype=torch.float64)),\n",
       " ('dispersat', tensor(694.4693, dtype=torch.float64))]"
      ]
     },
     "execution_count": 5,
     "metadata": {},
     "output_type": "execute_result"
    }
   ],
   "source": [
    "from dexflex.prototype import *\n"
   ]
  },
  {
   "cell_type": "code",
   "execution_count": 7,
   "metadata": {},
   "outputs": [
    {
     "data": {
      "text/plain": [
       "'Eu nu pății\\n'"
      ]
     },
     "execution_count": 7,
     "metadata": {},
     "output_type": "execute_result"
    }
   ],
   "source": [
    "nlp(\"Eu nu am pat\")._.oltenizare()\n"
   ]
  }
 ],
 "metadata": {
  "kernelspec": {
   "display_name": "Python 3",
   "language": "python",
   "name": "python3"
  },
  "language_info": {
   "codemirror_mode": {
    "name": "ipython",
    "version": 3
   },
   "file_extension": ".py",
   "mimetype": "text/x-python",
   "name": "python",
   "nbconvert_exporter": "python",
   "pygments_lexer": "ipython3",
   "version": "3.9.6"
  }
 },
 "nbformat": 4,
 "nbformat_minor": 2
}
