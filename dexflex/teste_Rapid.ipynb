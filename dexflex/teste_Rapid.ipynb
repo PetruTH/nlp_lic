{
 "cells": [
  {
   "cell_type": "code",
   "execution_count": 1,
   "metadata": {},
   "outputs": [
    {
     "name": "stderr",
     "output_type": "stream",
     "text": [
      " [INFO] 2024-06-22 15:57:48,335 root:177 - Start loading needed data in memory!\n",
      " [INFO] 2024-06-22 15:57:48,338 dexflex.data_loader:189 - Mapare file loaded.\n",
      " [INFO] 2024-06-22 15:57:53,554 dexflex.data_loader:191 - All inflected forms file loaded.\n",
      " [INFO] 2024-06-22 15:57:54,535 dexflex.data_loader:193 - Mapping word to id and pos file loaded.\n",
      " [INFO] 2024-06-22 15:57:55,513 dexflex.data_loader:195 - Mapping word id to word and pos file loaded.\n",
      " [INFO] 2024-06-22 15:57:58,642 dexflex.data_loader:197 - Mapping id to inflected forms file loaded.\n",
      " [INFO] 2024-06-22 15:57:59,576 dexflex.data_loader:199 - Mapping entry id to lexeme id file loaded.\n",
      " [INFO] 2024-06-22 15:57:59,766 dexflex.data_loader:201 - Mapping tree id to entry id file loaded.\n",
      " [INFO] 2024-06-22 15:57:59,821 dexflex.data_loader:203 - Mapping meaning id to tree id file loaded.\n",
      " [INFO] 2024-06-22 15:58:00,684 dexflex.data_loader:205 - Mapping synonyms file loaded.\n",
      " [INFO] 2024-06-22 15:58:00,726 dexflex.data_loader:207 - Mapping contexts file loaded.\n",
      " [INFO] 2024-06-22 15:58:00,727 root:209 - The data from jsons files is now loaded in memory!\n",
      "/Users/inttstbrd/Library/Python/3.9/lib/python/site-packages/tqdm/auto.py:21: TqdmWarning: IProgress not found. Please update jupyter and ipywidgets. See https://ipywidgets.readthedocs.io/en/stable/user_install.html\n",
      "  from .autonotebook import tqdm as notebook_tqdm\n"
     ]
    }
   ],
   "source": [
    "from dexflex.prototype import *\n"
   ]
  },
  {
   "cell_type": "code",
   "execution_count": 2,
   "metadata": {},
   "outputs": [],
   "source": [
    "import spacy\n",
    "from spacy import displacy\n",
    "nlp = spacy.load(\"ro_core_news_lg\")"
   ]
  },
  {
   "cell_type": "code",
   "execution_count": 9,
   "metadata": {},
   "outputs": [
    {
     "name": "stdout",
     "output_type": "stream",
     "text": [
      "Acesta a fost un test. Acesta fuse un test.\n",
      "[('acuși', tensor(959.3893, dtype=torch.float64)), ('', tensor(834.3686, dtype=torch.float64)), ('acum', tensor(821.1581, dtype=torch.float64)), ('amuși', tensor(768.8734, dtype=torch.float64)), ('îndată', tensor(700.2427, dtype=torch.float64)), ('acușica', tensor(640.7454, dtype=torch.float64)), ('numaidecât', tensor(430.3395, dtype=torch.float64)), ('acuma', tensor(416.5581, dtype=torch.float64)), ('atunci', tensor(250.5274, dtype=torch.float64)), ('deodată', tensor(241.9558, dtype=torch.float64))]\n"
     ]
    }
   ],
   "source": [
    "\n",
    "doc1 = nlp(\"Acesta a fost un test.\")\n",
    "print(doc1, doc1._.oltenizare())\n",
    "\n",
    "\n",
    "doc2 = nlp(\"Noi vom testa imediat.\")\n",
    "print(doc2[-2]._.get_syns())\n"
   ]
  },
  {
   "cell_type": "code",
   "execution_count": 18,
   "metadata": {},
   "outputs": [
    {
     "name": "stdout",
     "output_type": "stream",
     "text": [
      "[('Am citit o carte interesantă săptămâna trecută.', 4, ['ciudată', 'interesantă', 'pasionantă', 'captivantă', 'emoționantă']), ('Ea a câștigat concursul de desen.', 3, ['concursul', 'concursu', 'spectacolul', 'spectacolu']), ('El a fugit departe.', 2, ['grăbit', 'plecat', 'evadat', 'alergat', 'risipit', 'răspândit', 'răzleț', 'gonit', 'răsfirat', 'dispersat']), ('Am observat o eroare.', 1, ['văzut', 'observat', 'prins', 'surprins', 'simțit', 'constatat', 'privit', 'aflat', 'sesizat', 'priceput']), ('Soțul ei părea o persoană nefericită, fără angajament, fără mari averi și fără prestigiu.', 12, ['averi', 'bogății', 'avuții', 'strânsuri', 'recolte', 'provizii', 'stări', 'posesii', 'bunăstări', 'posesiuni']), ('Polemicile din tinerețe aveau sens în lumina climatului Risorgimento, care l-a determinat pe Carducci să demonizeze tot ceea ce putea sta în calea reconquistei libertății care făcuse Roma mare și comunele italiene demne de glorie nepieritoare în Evul Mediu (idiosincrasia inițială pentru literatura străină trebuie înțeleasă în acest sens).', 0, ['disputele', 'polemicile', 'discuțiile']), ('În timp ce primii întruchipează virtuți precum dreptatea sau blândețea, eroii negativi sunt conduși de pofta de putere și calcă în picioare toate valorile.', 4, ['creează', 'întrupează', 'incarnează', 'plăsmuiește', 'plăsmuiesc', 'întruchipează', 'înfăptuiește', 'înfăptuiesc']), ('Sarcina romancierului este de a efectua o investigație științifică pentru a descoperi legile care guvernează comportamentul uman, apoi de a expune publicului, prin intermediul romanului, relatarea experimentelor sale.', -3, ['experimentelor']), ('În societatea italiană, lacerațiile care caracterizează relația dintre intelectual și societate nu s-au format încă, iar elanul optimist al celor care se angajează să creeze o nouă națiune prevalează asupra conflictelor.', -2, ['conflictelor', 'sentimentelor', 'războaielor', 'ordinelor', 'scandalurilor', 'dezacordurilor', 'litigiilor', 'diferendurilor', 'prejudiciilor']), ('Astfel, a renunțat la ideea de literatură ca plăcere și a început să scrie opere pentru un public erudit.', 5, ['ideea', 'părerea', 'reflecția', 'socoteala', 'judecata', 'prostia', 'noțiunea', 'aberanța', 'inepția', 'concepția']), ('Speriată, am recuperat mingea și m-am strecurat printre picioarele statuii.', 0, ['speriată', 'uluită', 'încurcată', 'fâstâcită', 'teșmenită', 'rătutită', 'timorată', 'îngrozită', 'înfricoșată', 'înfricată']), ('A fi foarte atins: suma mai multor mângâieri este o julitură.', 5, ['suma', 'mărimea', 'cantitatea', 'înălțimea', 'mulțimea', 'grămada', 'puzderia']), ('Fusese surprinsă de faptul că Taggart trecuse într-o zi, din senin, prin camera ei de mahala.', -2, ['suburbie', 'suburbia', 'periferie', 'periferia']), ('Deoarece ideea elementară de funcții este mai bine înțeleasă din punct de vedere clasic, o vom folosi în continuare.', -8, ['tipic', 'specific', 'ilustrativ', 'exponențial', 'caracteristic']), ('Uneori va trebui să manipulați expresii într-o formă utilizabilă înainte de a putea efectua operații de calcul.', 5, ['mine', 'expresii', 'zicale', 'vorbe', 'fizionomii', 'înfățișări', 'exprimări', 'zicători', 'locuțiuni']), ('Uneori va trebui să manipulați expresii într-o formă utilizabilă înainte de a putea efectua operații de calcul.', 4, ['mânuiți', 'mânuiați', 'maniați', 'manipulați', 'manevrați']), ('O astfel de cavitate poate oferi numeroase avantaje funcționale.', 6, ['ample', 'bogate', 'vaste', 'numeroase', 'intense', 'abundente', 'îmbelșugate', 'diverse', 'variate', 'îndelungate']), ('Clătirea cu alcool nu îndepărtează cristalul violet care maschează colorantul roșu safanin adăugat.', 2, ['spirt', 'spirit', 'spirituș']), ('Linia mare și curbată din stânga este îndreptată în mod elaborat spre mine (mi).', 10, ['făcut', 'scos', 'compus', 'elaborat', 'alcătuit'])]\n"
     ]
    }
   ],
   "source": [
    "\n",
    "propozitii = [\n",
    "    (\"Am citit o carte interesantă săptămâna trecută.\", 4),\n",
    "    (\"Ea a câștigat concursul de desen.\", 3),\n",
    "    (\"El a fugit departe.\", 2),\n",
    "    (\"Am observat o eroare.\", 1),\n",
    "    (\"Soțul ei părea o persoană nefericită, fără angajament, fără mari averi și fără prestigiu.\", 12),\n",
    "    (\"Polemicile din tinerețe aveau sens în lumina climatului Risorgimento, care l-a determinat pe Carducci să demonizeze tot ceea ce putea sta în calea reconquistei libertății care făcuse Roma mare și comunele italiene demne de glorie nepieritoare în Evul Mediu (idiosincrasia inițială pentru literatura străină trebuie înțeleasă în acest sens).\", 0),\t\n",
    "    (\"În timp ce primii întruchipează virtuți precum dreptatea sau blândețea, eroii negativi sunt conduși de pofta de putere și calcă în picioare toate valorile.\", 4),\t\n",
    "    (\"Sarcina romancierului este de a efectua o investigație științifică pentru a descoperi legile care guvernează comportamentul uman, apoi de a expune publicului, prin intermediul romanului, relatarea experimentelor sale.\", -3),\t\n",
    "    (\"În societatea italiană, lacerațiile care caracterizează relația dintre intelectual și societate nu s-au format încă, iar elanul optimist al celor care se angajează să creeze o nouă națiune prevalează asupra conflictelor.\", -2),\t\n",
    "    (\"Astfel, a renunțat la ideea de literatură ca plăcere și a început să scrie opere pentru un public erudit.\", 5),\t\n",
    "    (\"Speriată, am recuperat mingea și m-am strecurat printre picioarele statuii.\", 0),\t\n",
    "    (\"A fi foarte atins: suma mai multor mângâieri este o julitură.\", 5),\t\n",
    "    (\"Fusese surprinsă de faptul că Taggart trecuse într-o zi, din senin, prin camera ei de mahala.\", -2),\t\t\n",
    "    (\"Deoarece ideea elementară de funcții este mai bine înțeleasă din punct de vedere clasic, o vom folosi în continuare.\", -8),\t\t\n",
    "    (\"Uneori va trebui să manipulați expresii într-o formă utilizabilă înainte de a putea efectua operații de calcul.\", 5),\t\t\n",
    "    (\"Uneori va trebui să manipulați expresii într-o formă utilizabilă înainte de a putea efectua operații de calcul.\", 4),\t\t\n",
    "    (\"O astfel de cavitate poate oferi numeroase avantaje funcționale.\", 6),\t\n",
    "    (\"Clătirea cu alcool nu îndepărtează cristalul violet care maschează colorantul roșu safanin adăugat.\", 2),\t\t\n",
    "    (\"Linia mare și curbată din stânga este îndreptată în mod elaborat spre mine (mi).\", 10)\t\n",
    "]\n",
    "\n",
    "data_for_test = []\n",
    "\n",
    "for prop in propozitii:\n",
    "    target = nlp(prop[0])[prop[1]]\n",
    "    sinonime = target._.get_syns()\n",
    "    \n",
    "    lst = []\n",
    "    for s in sinonime:\n",
    "        lst.append(s[0])\n",
    "    \n",
    "    data_for_test.append((prop[0], prop[1], lst))\n",
    "\n",
    "print(data_for_test)"
   ]
  },
  {
   "cell_type": "code",
   "execution_count": 19,
   "metadata": {},
   "outputs": [
    {
     "name": "stdout",
     "output_type": "stream",
     "text": [
      "('Am citit o carte interesantă săptămâna trecută.', 4, ['ciudată', 'interesantă', 'pasionantă', 'captivantă', 'emoționantă'])\n",
      "('Ea a câștigat concursul de desen.', 3, ['concursul', 'concursu', 'spectacolul', 'spectacolu'])\n",
      "('El a fugit departe.', 2, ['grăbit', 'plecat', 'evadat', 'alergat', 'risipit', 'răspândit', 'răzleț', 'gonit', 'răsfirat', 'dispersat'])\n",
      "('Am observat o eroare.', 1, ['văzut', 'observat', 'prins', 'surprins', 'simțit', 'constatat', 'privit', 'aflat', 'sesizat', 'priceput'])\n",
      "('Soțul ei părea o persoană nefericită, fără angajament, fără mari averi și fără prestigiu.', 12, ['averi', 'bogății', 'avuții', 'strânsuri', 'recolte', 'provizii', 'stări', 'posesii', 'bunăstări', 'posesiuni'])\n",
      "('Polemicile din tinerețe aveau sens în lumina climatului Risorgimento, care l-a determinat pe Carducci să demonizeze tot ceea ce putea sta în calea reconquistei libertății care făcuse Roma mare și comunele italiene demne de glorie nepieritoare în Evul Mediu (idiosincrasia inițială pentru literatura străină trebuie înțeleasă în acest sens).', 0, ['disputele', 'polemicile', 'discuțiile'])\n",
      "('În timp ce primii întruchipează virtuți precum dreptatea sau blândețea, eroii negativi sunt conduși de pofta de putere și calcă în picioare toate valorile.', 4, ['creează', 'întrupează', 'incarnează', 'plăsmuiește', 'plăsmuiesc', 'întruchipează', 'înfăptuiește', 'înfăptuiesc'])\n",
      "('Sarcina romancierului este de a efectua o investigație științifică pentru a descoperi legile care guvernează comportamentul uman, apoi de a expune publicului, prin intermediul romanului, relatarea experimentelor sale.', -3, ['experimentelor'])\n",
      "('În societatea italiană, lacerațiile care caracterizează relația dintre intelectual și societate nu s-au format încă, iar elanul optimist al celor care se angajează să creeze o nouă națiune prevalează asupra conflictelor.', -2, ['conflictelor', 'sentimentelor', 'războaielor', 'ordinelor', 'scandalurilor', 'dezacordurilor', 'litigiilor', 'diferendurilor', 'prejudiciilor'])\n",
      "('Astfel, a renunțat la ideea de literatură ca plăcere și a început să scrie opere pentru un public erudit.', 5, ['ideea', 'părerea', 'reflecția', 'socoteala', 'judecata', 'prostia', 'noțiunea', 'aberanța', 'inepția', 'concepția'])\n",
      "('Speriată, am recuperat mingea și m-am strecurat printre picioarele statuii.', 0, ['speriată', 'uluită', 'încurcată', 'fâstâcită', 'teșmenită', 'rătutită', 'timorată', 'îngrozită', 'înfricoșată', 'înfricată'])\n",
      "('A fi foarte atins: suma mai multor mângâieri este o julitură.', 5, ['suma', 'mărimea', 'cantitatea', 'înălțimea', 'mulțimea', 'grămada', 'puzderia'])\n",
      "('Fusese surprinsă de faptul că Taggart trecuse într-o zi, din senin, prin camera ei de mahala.', -2, ['suburbie', 'suburbia', 'periferie', 'periferia'])\n",
      "('Deoarece ideea elementară de funcții este mai bine înțeleasă din punct de vedere clasic, o vom folosi în continuare.', -8, ['tipic', 'specific', 'ilustrativ', 'exponențial', 'caracteristic'])\n",
      "('Uneori va trebui să manipulați expresii într-o formă utilizabilă înainte de a putea efectua operații de calcul.', 5, ['mine', 'expresii', 'zicale', 'vorbe', 'fizionomii', 'înfățișări', 'exprimări', 'zicători', 'locuțiuni'])\n",
      "('Uneori va trebui să manipulați expresii într-o formă utilizabilă înainte de a putea efectua operații de calcul.', 4, ['mânuiți', 'mânuiați', 'maniați', 'manipulați', 'manevrați'])\n",
      "('O astfel de cavitate poate oferi numeroase avantaje funcționale.', 6, ['ample', 'bogate', 'vaste', 'numeroase', 'intense', 'abundente', 'îmbelșugate', 'diverse', 'variate', 'îndelungate'])\n",
      "('Clătirea cu alcool nu îndepărtează cristalul violet care maschează colorantul roșu safanin adăugat.', 2, ['spirt', 'spirit', 'spirituș'])\n",
      "('Linia mare și curbată din stânga este îndreptată în mod elaborat spre mine (mi).', 10, ['făcut', 'scos', 'compus', 'elaborat', 'alcătuit'])\n"
     ]
    }
   ],
   "source": [
    "for d in data_for_test:\n",
    "    print(d)"
   ]
  }
 ],
 "metadata": {
  "kernelspec": {
   "display_name": "Python 3",
   "language": "python",
   "name": "python3"
  },
  "language_info": {
   "codemirror_mode": {
    "name": "ipython",
    "version": 3
   },
   "file_extension": ".py",
   "mimetype": "text/x-python",
   "name": "python",
   "nbconvert_exporter": "python",
   "pygments_lexer": "ipython3",
   "version": "3.9.6"
  }
 },
 "nbformat": 4,
 "nbformat_minor": 2
}
